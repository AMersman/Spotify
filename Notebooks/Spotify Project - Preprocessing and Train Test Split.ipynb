{
 "cells": [
  {
   "cell_type": "code",
   "execution_count": 2,
   "id": "68517648",
   "metadata": {},
   "outputs": [],
   "source": [
    "import pandas as pd\n",
    "import numpy as np\n",
    "import os\n",
    "import pickle\n",
    "import matplotlib.pyplot as plt\n",
    "import seaborn as sns\n",
    "from sklearn import __version__ as sklearn_version\n",
    "from sklearn.decomposition import PCA\n",
    "from sklearn.preprocessing import scale\n",
    "from sklearn.model_selection import train_test_split, cross_validate, GridSearchCV, learning_curve\n",
    "from sklearn.preprocessing import StandardScaler, MinMaxScaler, RobustScaler\n",
    "from sklearn.model_selection import RandomizedSearchCV\n",
    "from sklearn.dummy import DummyRegressor\n",
    "from sklearn.tree import DecisionTreeRegressor\n",
    "from sklearn.linear_model import LinearRegression\n",
    "from sklearn.ensemble import RandomForestRegressor\n",
    "from sklearn.metrics import r2_score, mean_squared_error, mean_absolute_error\n",
    "from sklearn.pipeline import make_pipeline\n",
    "from sklearn.impute import SimpleImputer\n",
    "from sklearn.feature_selection import SelectKBest, f_regression\n",
    "import datetime\n",
    "from library.sb_utils import save_file"
   ]
  },
  {
   "cell_type": "code",
   "execution_count": 3,
   "id": "ac8ebf54",
   "metadata": {},
   "outputs": [],
   "source": [
    "def r_squared(y, ypred):\n",
    "    \"\"\"R-squared score.\n",
    "    \n",
    "    Calculate the R-squared, or coefficient of determination, of the input.\n",
    "    \n",
    "    Arguments:\n",
    "    y -- the observed values\n",
    "    ypred -- the predicted values\n",
    "    \"\"\"\n",
    "    ybar = np.sum(y) / len(y) #yes, we could use np.mean(y)\n",
    "    sum_sq_tot = np.sum((y - ybar)**2) #total sum of squares error\n",
    "    sum_sq_res = np.sum((y - ypred)**2) #residual sum of squares error\n",
    "    R2 = 1.0 - sum_sq_res / sum_sq_tot\n",
    "    return R2"
   ]
  },
  {
   "cell_type": "code",
   "execution_count": 4,
   "id": "4c139037",
   "metadata": {},
   "outputs": [
    {
     "name": "stdout",
     "output_type": "stream",
     "text": [
      "<class 'pandas.core.frame.DataFrame'>\n",
      "RangeIndex: 156608 entries, 0 to 156607\n",
      "Data columns (total 19 columns):\n",
      " #   Column            Non-Null Count   Dtype  \n",
      "---  ------            --------------   -----  \n",
      " 0   Unnamed: 0        156608 non-null  int64  \n",
      " 1   acousticness      156608 non-null  float64\n",
      " 2   artists           156608 non-null  object \n",
      " 3   danceability      156608 non-null  float64\n",
      " 4   duration_ms       156608 non-null  int64  \n",
      " 5   energy            156608 non-null  float64\n",
      " 6   explicit          156608 non-null  int64  \n",
      " 7   instrumentalness  156608 non-null  float64\n",
      " 8   key               156608 non-null  int64  \n",
      " 9   liveness          156608 non-null  float64\n",
      " 10  loudness          156608 non-null  float64\n",
      " 11  mode              156608 non-null  int64  \n",
      " 12  name              156608 non-null  object \n",
      " 13  popularity        156608 non-null  int64  \n",
      " 14  speechiness       156608 non-null  float64\n",
      " 15  tempo             156608 non-null  float64\n",
      " 16  valence           156608 non-null  float64\n",
      " 17  year              156608 non-null  int64  \n",
      " 18  decade            156608 non-null  object \n",
      "dtypes: float64(9), int64(7), object(3)\n",
      "memory usage: 22.7+ MB\n"
     ]
    }
   ],
   "source": [
    "#import df\n",
    "df = pd.read_csv('../data/df_final.csv')\n",
    "df.info()"
   ]
  },
  {
   "cell_type": "code",
   "execution_count": 5,
   "id": "ad8f3712",
   "metadata": {},
   "outputs": [
    {
     "data": {
      "text/html": [
       "<div>\n",
       "<style scoped>\n",
       "    .dataframe tbody tr th:only-of-type {\n",
       "        vertical-align: middle;\n",
       "    }\n",
       "\n",
       "    .dataframe tbody tr th {\n",
       "        vertical-align: top;\n",
       "    }\n",
       "\n",
       "    .dataframe thead th {\n",
       "        text-align: right;\n",
       "    }\n",
       "</style>\n",
       "<table border=\"1\" class=\"dataframe\">\n",
       "  <thead>\n",
       "    <tr style=\"text-align: right;\">\n",
       "      <th></th>\n",
       "      <th>acousticness</th>\n",
       "      <th>artists</th>\n",
       "      <th>danceability</th>\n",
       "      <th>duration_ms</th>\n",
       "      <th>energy</th>\n",
       "      <th>explicit</th>\n",
       "      <th>instrumentalness</th>\n",
       "      <th>key</th>\n",
       "      <th>liveness</th>\n",
       "      <th>loudness</th>\n",
       "      <th>mode</th>\n",
       "      <th>name</th>\n",
       "      <th>popularity</th>\n",
       "      <th>speechiness</th>\n",
       "      <th>tempo</th>\n",
       "      <th>valence</th>\n",
       "      <th>year</th>\n",
       "      <th>decade</th>\n",
       "    </tr>\n",
       "  </thead>\n",
       "  <tbody>\n",
       "    <tr>\n",
       "      <th>0</th>\n",
       "      <td>0.995</td>\n",
       "      <td>Carl Woitschach</td>\n",
       "      <td>0.708</td>\n",
       "      <td>158648</td>\n",
       "      <td>0.1950</td>\n",
       "      <td>0</td>\n",
       "      <td>0.563</td>\n",
       "      <td>10</td>\n",
       "      <td>0.1510</td>\n",
       "      <td>-12.428</td>\n",
       "      <td>1</td>\n",
       "      <td>Singende Bataillone 1. Teil</td>\n",
       "      <td>0</td>\n",
       "      <td>0.0506</td>\n",
       "      <td>118.469</td>\n",
       "      <td>0.7790</td>\n",
       "      <td>1928</td>\n",
       "      <td>1921-30</td>\n",
       "    </tr>\n",
       "    <tr>\n",
       "      <th>1</th>\n",
       "      <td>0.994</td>\n",
       "      <td>Robert Schumann, Vladimir Horowitz</td>\n",
       "      <td>0.379</td>\n",
       "      <td>282133</td>\n",
       "      <td>0.0135</td>\n",
       "      <td>0</td>\n",
       "      <td>0.901</td>\n",
       "      <td>8</td>\n",
       "      <td>0.0763</td>\n",
       "      <td>-28.454</td>\n",
       "      <td>1</td>\n",
       "      <td>Fantasiestücke, Op. 111: Più tosto lento</td>\n",
       "      <td>0</td>\n",
       "      <td>0.0462</td>\n",
       "      <td>83.972</td>\n",
       "      <td>0.0767</td>\n",
       "      <td>1928</td>\n",
       "      <td>1921-30</td>\n",
       "    </tr>\n",
       "    <tr>\n",
       "      <th>2</th>\n",
       "      <td>0.604</td>\n",
       "      <td>Seweryn Goszczyński</td>\n",
       "      <td>0.749</td>\n",
       "      <td>104300</td>\n",
       "      <td>0.2200</td>\n",
       "      <td>0</td>\n",
       "      <td>0.000</td>\n",
       "      <td>5</td>\n",
       "      <td>0.1190</td>\n",
       "      <td>-19.924</td>\n",
       "      <td>0</td>\n",
       "      <td>Chapter 1.18 - Zamek kaniowski</td>\n",
       "      <td>0</td>\n",
       "      <td>0.9290</td>\n",
       "      <td>107.177</td>\n",
       "      <td>0.8800</td>\n",
       "      <td>1928</td>\n",
       "      <td>1921-30</td>\n",
       "    </tr>\n",
       "    <tr>\n",
       "      <th>3</th>\n",
       "      <td>0.995</td>\n",
       "      <td>Francisco Canaro</td>\n",
       "      <td>0.781</td>\n",
       "      <td>180760</td>\n",
       "      <td>0.1300</td>\n",
       "      <td>0</td>\n",
       "      <td>0.887</td>\n",
       "      <td>1</td>\n",
       "      <td>0.1110</td>\n",
       "      <td>-14.734</td>\n",
       "      <td>0</td>\n",
       "      <td>Bebamos Juntos - Instrumental (Remasterizado)</td>\n",
       "      <td>0</td>\n",
       "      <td>0.0926</td>\n",
       "      <td>108.003</td>\n",
       "      <td>0.7200</td>\n",
       "      <td>1928</td>\n",
       "      <td>1921-30</td>\n",
       "    </tr>\n",
       "    <tr>\n",
       "      <th>4</th>\n",
       "      <td>0.990</td>\n",
       "      <td>Frédéric Chopin, Vladimir Horowitz</td>\n",
       "      <td>0.210</td>\n",
       "      <td>687733</td>\n",
       "      <td>0.2040</td>\n",
       "      <td>0</td>\n",
       "      <td>0.908</td>\n",
       "      <td>11</td>\n",
       "      <td>0.0980</td>\n",
       "      <td>-16.829</td>\n",
       "      <td>1</td>\n",
       "      <td>Polonaise-Fantaisie in A-Flat Major, Op. 61</td>\n",
       "      <td>1</td>\n",
       "      <td>0.0424</td>\n",
       "      <td>62.149</td>\n",
       "      <td>0.0693</td>\n",
       "      <td>1928</td>\n",
       "      <td>1921-30</td>\n",
       "    </tr>\n",
       "  </tbody>\n",
       "</table>\n",
       "</div>"
      ],
      "text/plain": [
       "   acousticness                             artists  danceability  \\\n",
       "0         0.995                     Carl Woitschach         0.708   \n",
       "1         0.994  Robert Schumann, Vladimir Horowitz         0.379   \n",
       "2         0.604                 Seweryn Goszczyński         0.749   \n",
       "3         0.995                    Francisco Canaro         0.781   \n",
       "4         0.990  Frédéric Chopin, Vladimir Horowitz         0.210   \n",
       "\n",
       "   duration_ms  energy  explicit  instrumentalness  key  liveness  loudness  \\\n",
       "0       158648  0.1950         0             0.563   10    0.1510   -12.428   \n",
       "1       282133  0.0135         0             0.901    8    0.0763   -28.454   \n",
       "2       104300  0.2200         0             0.000    5    0.1190   -19.924   \n",
       "3       180760  0.1300         0             0.887    1    0.1110   -14.734   \n",
       "4       687733  0.2040         0             0.908   11    0.0980   -16.829   \n",
       "\n",
       "   mode                                           name  popularity  \\\n",
       "0     1                    Singende Bataillone 1. Teil           0   \n",
       "1     1       Fantasiestücke, Op. 111: Più tosto lento           0   \n",
       "2     0                 Chapter 1.18 - Zamek kaniowski           0   \n",
       "3     0  Bebamos Juntos - Instrumental (Remasterizado)           0   \n",
       "4     1    Polonaise-Fantaisie in A-Flat Major, Op. 61           1   \n",
       "\n",
       "   speechiness    tempo  valence  year   decade  \n",
       "0       0.0506  118.469   0.7790  1928  1921-30  \n",
       "1       0.0462   83.972   0.0767  1928  1921-30  \n",
       "2       0.9290  107.177   0.8800  1928  1921-30  \n",
       "3       0.0926  108.003   0.7200  1928  1921-30  \n",
       "4       0.0424   62.149   0.0693  1928  1921-30  "
      ]
     },
     "execution_count": 5,
     "metadata": {},
     "output_type": "execute_result"
    }
   ],
   "source": [
    "#drop 1st column\n",
    "df=df.drop(columns=['Unnamed: 0'])\n",
    "df.head()"
   ]
  },
  {
   "cell_type": "code",
   "execution_count": 6,
   "id": "91614ad2",
   "metadata": {},
   "outputs": [
    {
     "data": {
      "text/html": [
       "<div>\n",
       "<style scoped>\n",
       "    .dataframe tbody tr th:only-of-type {\n",
       "        vertical-align: middle;\n",
       "    }\n",
       "\n",
       "    .dataframe tbody tr th {\n",
       "        vertical-align: top;\n",
       "    }\n",
       "\n",
       "    .dataframe thead th {\n",
       "        text-align: right;\n",
       "    }\n",
       "</style>\n",
       "<table border=\"1\" class=\"dataframe\">\n",
       "  <thead>\n",
       "    <tr style=\"text-align: right;\">\n",
       "      <th></th>\n",
       "      <th>acousticness</th>\n",
       "      <th>artists</th>\n",
       "      <th>danceability</th>\n",
       "      <th>duration_ms</th>\n",
       "      <th>energy</th>\n",
       "      <th>explicit</th>\n",
       "      <th>instrumentalness</th>\n",
       "      <th>key</th>\n",
       "      <th>liveness</th>\n",
       "      <th>loudness</th>\n",
       "      <th>mode</th>\n",
       "      <th>name</th>\n",
       "      <th>popularity</th>\n",
       "      <th>speechiness</th>\n",
       "      <th>tempo</th>\n",
       "      <th>valence</th>\n",
       "      <th>year</th>\n",
       "      <th>decade</th>\n",
       "    </tr>\n",
       "  </thead>\n",
       "  <tbody>\n",
       "    <tr>\n",
       "      <th>0</th>\n",
       "      <td>0.995</td>\n",
       "      <td>Carl Woitschach</td>\n",
       "      <td>0.708</td>\n",
       "      <td>158648</td>\n",
       "      <td>0.1950</td>\n",
       "      <td>0</td>\n",
       "      <td>0.563</td>\n",
       "      <td>10</td>\n",
       "      <td>0.1510</td>\n",
       "      <td>-12.428</td>\n",
       "      <td>1</td>\n",
       "      <td>Singende Bataillone 1. Teil</td>\n",
       "      <td>0</td>\n",
       "      <td>0.0506</td>\n",
       "      <td>118.469</td>\n",
       "      <td>0.7790</td>\n",
       "      <td>1928</td>\n",
       "      <td>1921-30</td>\n",
       "    </tr>\n",
       "    <tr>\n",
       "      <th>1</th>\n",
       "      <td>0.994</td>\n",
       "      <td>Robert Schumann, Vladimir Horowitz</td>\n",
       "      <td>0.379</td>\n",
       "      <td>282133</td>\n",
       "      <td>0.0135</td>\n",
       "      <td>0</td>\n",
       "      <td>0.901</td>\n",
       "      <td>8</td>\n",
       "      <td>0.0763</td>\n",
       "      <td>-28.454</td>\n",
       "      <td>1</td>\n",
       "      <td>Fantasiestücke, Op. 111: Più tosto lento</td>\n",
       "      <td>0</td>\n",
       "      <td>0.0462</td>\n",
       "      <td>83.972</td>\n",
       "      <td>0.0767</td>\n",
       "      <td>1928</td>\n",
       "      <td>1921-30</td>\n",
       "    </tr>\n",
       "    <tr>\n",
       "      <th>2</th>\n",
       "      <td>0.604</td>\n",
       "      <td>Seweryn Goszczyński</td>\n",
       "      <td>0.749</td>\n",
       "      <td>104300</td>\n",
       "      <td>0.2200</td>\n",
       "      <td>0</td>\n",
       "      <td>0.000</td>\n",
       "      <td>5</td>\n",
       "      <td>0.1190</td>\n",
       "      <td>-19.924</td>\n",
       "      <td>0</td>\n",
       "      <td>Chapter 1.18 - Zamek kaniowski</td>\n",
       "      <td>0</td>\n",
       "      <td>0.9290</td>\n",
       "      <td>107.177</td>\n",
       "      <td>0.8800</td>\n",
       "      <td>1928</td>\n",
       "      <td>1921-30</td>\n",
       "    </tr>\n",
       "    <tr>\n",
       "      <th>3</th>\n",
       "      <td>0.995</td>\n",
       "      <td>Francisco Canaro</td>\n",
       "      <td>0.781</td>\n",
       "      <td>180760</td>\n",
       "      <td>0.1300</td>\n",
       "      <td>0</td>\n",
       "      <td>0.887</td>\n",
       "      <td>1</td>\n",
       "      <td>0.1110</td>\n",
       "      <td>-14.734</td>\n",
       "      <td>0</td>\n",
       "      <td>Bebamos Juntos - Instrumental (Remasterizado)</td>\n",
       "      <td>0</td>\n",
       "      <td>0.0926</td>\n",
       "      <td>108.003</td>\n",
       "      <td>0.7200</td>\n",
       "      <td>1928</td>\n",
       "      <td>1921-30</td>\n",
       "    </tr>\n",
       "    <tr>\n",
       "      <th>4</th>\n",
       "      <td>0.990</td>\n",
       "      <td>Frédéric Chopin, Vladimir Horowitz</td>\n",
       "      <td>0.210</td>\n",
       "      <td>687733</td>\n",
       "      <td>0.2040</td>\n",
       "      <td>0</td>\n",
       "      <td>0.908</td>\n",
       "      <td>11</td>\n",
       "      <td>0.0980</td>\n",
       "      <td>-16.829</td>\n",
       "      <td>1</td>\n",
       "      <td>Polonaise-Fantaisie in A-Flat Major, Op. 61</td>\n",
       "      <td>1</td>\n",
       "      <td>0.0424</td>\n",
       "      <td>62.149</td>\n",
       "      <td>0.0693</td>\n",
       "      <td>1928</td>\n",
       "      <td>1921-30</td>\n",
       "    </tr>\n",
       "  </tbody>\n",
       "</table>\n",
       "</div>"
      ],
      "text/plain": [
       "   acousticness                             artists  danceability  \\\n",
       "0         0.995                     Carl Woitschach         0.708   \n",
       "1         0.994  Robert Schumann, Vladimir Horowitz         0.379   \n",
       "2         0.604                 Seweryn Goszczyński         0.749   \n",
       "3         0.995                    Francisco Canaro         0.781   \n",
       "4         0.990  Frédéric Chopin, Vladimir Horowitz         0.210   \n",
       "\n",
       "   duration_ms  energy  explicit  instrumentalness  key  liveness  loudness  \\\n",
       "0       158648  0.1950         0             0.563   10    0.1510   -12.428   \n",
       "1       282133  0.0135         0             0.901    8    0.0763   -28.454   \n",
       "2       104300  0.2200         0             0.000    5    0.1190   -19.924   \n",
       "3       180760  0.1300         0             0.887    1    0.1110   -14.734   \n",
       "4       687733  0.2040         0             0.908   11    0.0980   -16.829   \n",
       "\n",
       "   mode                                           name  popularity  \\\n",
       "0     1                    Singende Bataillone 1. Teil           0   \n",
       "1     1       Fantasiestücke, Op. 111: Più tosto lento           0   \n",
       "2     0                 Chapter 1.18 - Zamek kaniowski           0   \n",
       "3     0  Bebamos Juntos - Instrumental (Remasterizado)           0   \n",
       "4     1    Polonaise-Fantaisie in A-Flat Major, Op. 61           1   \n",
       "\n",
       "   speechiness    tempo  valence  year   decade  \n",
       "0       0.0506  118.469   0.7790  1928  1921-30  \n",
       "1       0.0462   83.972   0.0767  1928  1921-30  \n",
       "2       0.9290  107.177   0.8800  1928  1921-30  \n",
       "3       0.0926  108.003   0.7200  1928  1921-30  \n",
       "4       0.0424   62.149   0.0693  1928  1921-30  "
      ]
     },
     "execution_count": 6,
     "metadata": {},
     "output_type": "execute_result"
    }
   ],
   "source": [
    "df.head()"
   ]
  },
  {
   "cell_type": "code",
   "execution_count": 7,
   "id": "040441e7",
   "metadata": {},
   "outputs": [],
   "source": [
    "X = df.drop(columns=['popularity', 'name', 'artists', 'decade'])\n",
    "y = df.popularity"
   ]
  },
  {
   "cell_type": "code",
   "execution_count": 8,
   "id": "7d318220",
   "metadata": {},
   "outputs": [],
   "source": [
    "#split data into training/test\n",
    "X_train, X_test, y_train, y_test = train_test_split(X,y, \n",
    "                                                    test_size=0.3, \n",
    "                                                    random_state=47)\n",
    "\n",
    "\n"
   ]
  },
  {
   "cell_type": "code",
   "execution_count": 9,
   "id": "04a2b03c",
   "metadata": {
    "scrolled": true
   },
   "outputs": [
    {
     "data": {
      "text/html": [
       "<div>\n",
       "<style scoped>\n",
       "    .dataframe tbody tr th:only-of-type {\n",
       "        vertical-align: middle;\n",
       "    }\n",
       "\n",
       "    .dataframe tbody tr th {\n",
       "        vertical-align: top;\n",
       "    }\n",
       "\n",
       "    .dataframe thead th {\n",
       "        text-align: right;\n",
       "    }\n",
       "</style>\n",
       "<table border=\"1\" class=\"dataframe\">\n",
       "  <thead>\n",
       "    <tr style=\"text-align: right;\">\n",
       "      <th></th>\n",
       "      <th>acousticness</th>\n",
       "      <th>danceability</th>\n",
       "      <th>duration_ms</th>\n",
       "      <th>energy</th>\n",
       "      <th>explicit</th>\n",
       "      <th>instrumentalness</th>\n",
       "      <th>key</th>\n",
       "      <th>liveness</th>\n",
       "      <th>loudness</th>\n",
       "      <th>mode</th>\n",
       "      <th>speechiness</th>\n",
       "      <th>tempo</th>\n",
       "      <th>valence</th>\n",
       "      <th>year</th>\n",
       "    </tr>\n",
       "  </thead>\n",
       "  <tbody>\n",
       "    <tr>\n",
       "      <th>83415</th>\n",
       "      <td>0.000061</td>\n",
       "      <td>0.451</td>\n",
       "      <td>194227</td>\n",
       "      <td>0.815</td>\n",
       "      <td>0</td>\n",
       "      <td>0.000000</td>\n",
       "      <td>2</td>\n",
       "      <td>0.270</td>\n",
       "      <td>-5.550</td>\n",
       "      <td>0</td>\n",
       "      <td>0.0368</td>\n",
       "      <td>147.974</td>\n",
       "      <td>0.618</td>\n",
       "      <td>2004</td>\n",
       "    </tr>\n",
       "    <tr>\n",
       "      <th>104300</th>\n",
       "      <td>0.843000</td>\n",
       "      <td>0.326</td>\n",
       "      <td>162533</td>\n",
       "      <td>0.447</td>\n",
       "      <td>0</td>\n",
       "      <td>0.954000</td>\n",
       "      <td>0</td>\n",
       "      <td>0.582</td>\n",
       "      <td>-12.411</td>\n",
       "      <td>1</td>\n",
       "      <td>0.0364</td>\n",
       "      <td>166.632</td>\n",
       "      <td>0.673</td>\n",
       "      <td>1956</td>\n",
       "    </tr>\n",
       "    <tr>\n",
       "      <th>74155</th>\n",
       "      <td>0.000034</td>\n",
       "      <td>0.507</td>\n",
       "      <td>185667</td>\n",
       "      <td>0.802</td>\n",
       "      <td>0</td>\n",
       "      <td>0.000349</td>\n",
       "      <td>6</td>\n",
       "      <td>0.213</td>\n",
       "      <td>-6.800</td>\n",
       "      <td>1</td>\n",
       "      <td>0.0289</td>\n",
       "      <td>92.609</td>\n",
       "      <td>0.769</td>\n",
       "      <td>1998</td>\n",
       "    </tr>\n",
       "    <tr>\n",
       "      <th>144998</th>\n",
       "      <td>0.734000</td>\n",
       "      <td>0.491</td>\n",
       "      <td>181333</td>\n",
       "      <td>0.719</td>\n",
       "      <td>0</td>\n",
       "      <td>0.886000</td>\n",
       "      <td>9</td>\n",
       "      <td>0.140</td>\n",
       "      <td>-7.917</td>\n",
       "      <td>0</td>\n",
       "      <td>0.0482</td>\n",
       "      <td>97.513</td>\n",
       "      <td>0.512</td>\n",
       "      <td>1971</td>\n",
       "    </tr>\n",
       "    <tr>\n",
       "      <th>121467</th>\n",
       "      <td>0.701000</td>\n",
       "      <td>0.451</td>\n",
       "      <td>172507</td>\n",
       "      <td>0.623</td>\n",
       "      <td>0</td>\n",
       "      <td>0.000002</td>\n",
       "      <td>8</td>\n",
       "      <td>0.289</td>\n",
       "      <td>-8.848</td>\n",
       "      <td>1</td>\n",
       "      <td>0.0429</td>\n",
       "      <td>148.127</td>\n",
       "      <td>0.895</td>\n",
       "      <td>1962</td>\n",
       "    </tr>\n",
       "  </tbody>\n",
       "</table>\n",
       "</div>"
      ],
      "text/plain": [
       "        acousticness  danceability  duration_ms  energy  explicit  \\\n",
       "83415       0.000061         0.451       194227   0.815         0   \n",
       "104300      0.843000         0.326       162533   0.447         0   \n",
       "74155       0.000034         0.507       185667   0.802         0   \n",
       "144998      0.734000         0.491       181333   0.719         0   \n",
       "121467      0.701000         0.451       172507   0.623         0   \n",
       "\n",
       "        instrumentalness  key  liveness  loudness  mode  speechiness    tempo  \\\n",
       "83415           0.000000    2     0.270    -5.550     0       0.0368  147.974   \n",
       "104300          0.954000    0     0.582   -12.411     1       0.0364  166.632   \n",
       "74155           0.000349    6     0.213    -6.800     1       0.0289   92.609   \n",
       "144998          0.886000    9     0.140    -7.917     0       0.0482   97.513   \n",
       "121467          0.000002    8     0.289    -8.848     1       0.0429  148.127   \n",
       "\n",
       "        valence  year  \n",
       "83415     0.618  2004  \n",
       "104300    0.673  1956  \n",
       "74155     0.769  1998  \n",
       "144998    0.512  1971  \n",
       "121467    0.895  1962  "
      ]
     },
     "execution_count": 9,
     "metadata": {},
     "output_type": "execute_result"
    }
   ],
   "source": [
    "X_train.head()\n",
    "\n",
    "\n"
   ]
  },
  {
   "cell_type": "code",
   "execution_count": 10,
   "id": "c9c36fa0",
   "metadata": {},
   "outputs": [],
   "source": [
    "#scale data\n",
    "scaler = StandardScaler()\n",
    "X_tr_scaled = scaler.fit_transform(X_train)\n",
    "X_te_scaled = scaler.transform(X_test)"
   ]
  },
  {
   "cell_type": "code",
   "execution_count": 11,
   "id": "be642766",
   "metadata": {},
   "outputs": [],
   "source": [
    "dummy = DummyRegressor()\n",
    "dummy.fit(X_train, y_train)\n",
    "dpred = dummy.predict(X_test)\n",
    "dtrain=dummy.predict(X_train)\n",
    "r2 = r2_score(y_train, dtrain), r2_score(y_test, dpred)"
   ]
  },
  {
   "cell_type": "code",
   "execution_count": 12,
   "id": "a05cc73f",
   "metadata": {},
   "outputs": [
    {
     "name": "stdout",
     "output_type": "stream",
     "text": [
      "(0.0, -4.364047884397593e-06)\n"
     ]
    }
   ],
   "source": [
    "print(r2)"
   ]
  },
  {
   "cell_type": "code",
   "execution_count": 13,
   "id": "e03980e5",
   "metadata": {},
   "outputs": [],
   "source": [
    "dummy = DummyRegressor()\n",
    "dummy.fit(X_tr_scaled, y_train)\n",
    "dpred = dummy.predict(X_te_scaled)\n",
    "dtrain=dummy.predict(X_tr_scaled)\n",
    "r2 = r2_score(y_train, dtrain), r2_score(y_test, dpred)"
   ]
  },
  {
   "cell_type": "code",
   "execution_count": 14,
   "id": "df7f4d9f",
   "metadata": {},
   "outputs": [
    {
     "name": "stdout",
     "output_type": "stream",
     "text": [
      "(0.0, -4.364047884397593e-06)\n"
     ]
    }
   ],
   "source": [
    "print(r2)"
   ]
  },
  {
   "cell_type": "code",
   "execution_count": 15,
   "id": "176c6733",
   "metadata": {},
   "outputs": [
    {
     "data": {
      "text/plain": [
       "LinearRegression()"
      ]
     },
     "execution_count": 15,
     "metadata": {},
     "output_type": "execute_result"
    }
   ],
   "source": [
    "lr=LinearRegression()\n",
    "lr.fit(X_tr_scaled, y_train)"
   ]
  },
  {
   "cell_type": "code",
   "execution_count": 16,
   "id": "9156cebc",
   "metadata": {},
   "outputs": [],
   "source": [
    "y_tr_pred = lr.predict(X_tr_scaled)\n",
    "y_te_pred = lr.predict(X_te_scaled)"
   ]
  },
  {
   "cell_type": "code",
   "execution_count": 17,
   "id": "00f5c88c",
   "metadata": {},
   "outputs": [
    {
     "data": {
      "text/plain": [
       "(0.7942658355781474, 0.794153686678039)"
      ]
     },
     "execution_count": 17,
     "metadata": {},
     "output_type": "execute_result"
    }
   ],
   "source": [
    "#assess model performance\n",
    "r2 = r2_score(y_train, y_tr_pred), r2_score(y_test, y_te_pred)\n",
    "r2"
   ]
  },
  {
   "cell_type": "code",
   "execution_count": 18,
   "id": "9dafe8cb",
   "metadata": {},
   "outputs": [],
   "source": [
    "#Refining the Linear Model\n",
    "pipe = make_pipeline(SimpleImputer(strategy= 'median'),\n",
    "                    StandardScaler(),\n",
    "                    LinearRegression())"
   ]
  },
  {
   "cell_type": "code",
   "execution_count": 19,
   "id": "858f0dbc",
   "metadata": {},
   "outputs": [
    {
     "data": {
      "text/plain": [
       "Pipeline(steps=[('simpleimputer', SimpleImputer(strategy='median')),\n",
       "                ('standardscaler', StandardScaler()),\n",
       "                ('linearregression', LinearRegression())])"
      ]
     },
     "execution_count": 19,
     "metadata": {},
     "output_type": "execute_result"
    }
   ],
   "source": [
    "#fit the pipeline\n",
    "pipe.fit(X_train, y_train)"
   ]
  },
  {
   "cell_type": "code",
   "execution_count": 20,
   "id": "f184b500",
   "metadata": {},
   "outputs": [],
   "source": [
    "y_tr_pred = pipe.predict(X_train)\n",
    "y_te_pred = pipe.predict(X_test)"
   ]
  },
  {
   "cell_type": "code",
   "execution_count": 21,
   "id": "0f73de49",
   "metadata": {},
   "outputs": [],
   "source": [
    "#Assessing using cross-validation\n",
    "cv_results = cross_validate(pipe, X_train, y_train, cv=5)"
   ]
  },
  {
   "cell_type": "code",
   "execution_count": 22,
   "id": "e29004f4",
   "metadata": {},
   "outputs": [
    {
     "data": {
      "text/plain": [
       "array([0.79525215, 0.7976227 , 0.78999733, 0.79841225, 0.7896497 ])"
      ]
     },
     "execution_count": 22,
     "metadata": {},
     "output_type": "execute_result"
    }
   ],
   "source": [
    "cv_scores = cv_results['test_score']\n",
    "cv_scores"
   ]
  },
  {
   "cell_type": "code",
   "execution_count": 23,
   "id": "13793e8b",
   "metadata": {},
   "outputs": [
    {
     "data": {
      "text/plain": [
       "(0.7941868285104455, 0.0037129964473219617)"
      ]
     },
     "execution_count": 23,
     "metadata": {},
     "output_type": "execute_result"
    }
   ],
   "source": [
    "np.mean(cv_scores), np.std(cv_scores)"
   ]
  },
  {
   "cell_type": "code",
   "execution_count": 24,
   "id": "71ee7946",
   "metadata": {},
   "outputs": [
    {
     "data": {
      "text/plain": [
       "(0.7942658355781474, 0.794153686678039)"
      ]
     },
     "execution_count": 24,
     "metadata": {},
     "output_type": "execute_result"
    }
   ],
   "source": [
    "r2_score(y_train, y_tr_pred), r2_score(y_test, y_te_pred)"
   ]
  },
  {
   "cell_type": "code",
   "execution_count": 25,
   "id": "80f6ea66",
   "metadata": {},
   "outputs": [],
   "source": [
    "k = [k+1 for k in range(len(X_train.columns))]\n",
    "grid_params = {'standardscaler': [StandardScaler(), None, MinMaxScaler()]}"
   ]
  },
  {
   "cell_type": "code",
   "execution_count": 26,
   "id": "2752ece4",
   "metadata": {},
   "outputs": [],
   "source": [
    "lr_grid_cv = GridSearchCV(pipe, param_grid=grid_params, cv=5, n_jobs=-1)"
   ]
  },
  {
   "cell_type": "code",
   "execution_count": 27,
   "id": "62f18bf3",
   "metadata": {
    "scrolled": true
   },
   "outputs": [
    {
     "data": {
      "text/plain": [
       "GridSearchCV(cv=5,\n",
       "             estimator=Pipeline(steps=[('simpleimputer',\n",
       "                                        SimpleImputer(strategy='median')),\n",
       "                                       ('standardscaler', StandardScaler()),\n",
       "                                       ('linearregression',\n",
       "                                        LinearRegression())]),\n",
       "             n_jobs=-1,\n",
       "             param_grid={'standardscaler': [StandardScaler(), None,\n",
       "                                            MinMaxScaler()]})"
      ]
     },
     "execution_count": 27,
     "metadata": {},
     "output_type": "execute_result"
    }
   ],
   "source": [
    "lr_grid_cv.fit(X_train, y_train)"
   ]
  },
  {
   "cell_type": "code",
   "execution_count": 28,
   "id": "53a7df92",
   "metadata": {},
   "outputs": [
    {
     "name": "stdout",
     "output_type": "stream",
     "text": [
      "[0.79418683 0.79418683 0.79418683] [0.003713 0.003713 0.003713]\n"
     ]
    }
   ],
   "source": [
    "score_mean = lr_grid_cv.cv_results_['mean_test_score']\n",
    "score_std = lr_grid_cv.cv_results_['std_test_score']\n",
    "print(score_mean, score_std)"
   ]
  },
  {
   "cell_type": "code",
   "execution_count": 29,
   "id": "3717f3de",
   "metadata": {},
   "outputs": [
    {
     "data": {
      "text/plain": [
       "{'standardscaler': None}"
      ]
     },
     "execution_count": 29,
     "metadata": {},
     "output_type": "execute_result"
    }
   ],
   "source": [
    "#Print the `best_params_` attribute of `lr_grid_cv`\n",
    "lr_grid_cv.best_params_"
   ]
  },
  {
   "cell_type": "code",
   "execution_count": 30,
   "id": "322dace6",
   "metadata": {},
   "outputs": [],
   "source": [
    "dt_pipe = make_pipeline(\n",
    "    StandardScaler(),\n",
    "    DecisionTreeRegressor(random_state=47))"
   ]
  },
  {
   "cell_type": "code",
   "execution_count": 31,
   "id": "9d0aebb9",
   "metadata": {},
   "outputs": [],
   "source": [
    "dt_cv_results = cross_validate(dt_pipe, X_train, y_train, cv=5)"
   ]
  },
  {
   "cell_type": "code",
   "execution_count": 32,
   "id": "20858966",
   "metadata": {},
   "outputs": [
    {
     "name": "stdout",
     "output_type": "stream",
     "text": [
      "0.6564754521683808\n"
     ]
    }
   ],
   "source": [
    "print(np.mean(dt_cv_results['test_score']))"
   ]
  },
  {
   "cell_type": "code",
   "execution_count": 33,
   "id": "b2c70a2c",
   "metadata": {},
   "outputs": [],
   "source": [
    "rf_pipe = make_pipeline(\n",
    "    StandardScaler(),\n",
    "    RandomForestRegressor(random_state=47))"
   ]
  },
  {
   "cell_type": "code",
   "execution_count": 34,
   "id": "886a1ebc",
   "metadata": {},
   "outputs": [],
   "source": [
    "rf_cv_results = cross_validate(rf_pipe, X_train, y_train, cv=5)"
   ]
  },
  {
   "cell_type": "code",
   "execution_count": 35,
   "id": "07a72729",
   "metadata": {},
   "outputs": [
    {
     "name": "stdout",
     "output_type": "stream",
     "text": [
      "{'fit_time': array([81.81064892, 80.28100991, 78.45440531, 79.19648314, 84.44942284]), 'score_time': array([0.70754981, 0.69392991, 0.70523787, 0.71079612, 0.73440003]), 'test_score': array([0.83342304, 0.83640286, 0.82992847, 0.83628617, 0.82854299])}\n"
     ]
    }
   ],
   "source": [
    "print(rf_cv_results)"
   ]
  },
  {
   "cell_type": "code",
   "execution_count": 36,
   "id": "69bd2e59",
   "metadata": {},
   "outputs": [],
   "source": [
    "rf_cv_scores = rf_cv_results['test_score']\n",
    "\n"
   ]
  },
  {
   "cell_type": "code",
   "execution_count": 37,
   "id": "de9c3a7e",
   "metadata": {},
   "outputs": [
    {
     "data": {
      "text/plain": [
       "(0.8329167054950066, 0.003219373365826157)"
      ]
     },
     "execution_count": 37,
     "metadata": {},
     "output_type": "execute_result"
    }
   ],
   "source": [
    "np.mean(rf_cv_scores), np.std(rf_cv_scores)"
   ]
  },
  {
   "cell_type": "code",
   "execution_count": 38,
   "id": "e10bc1e3",
   "metadata": {},
   "outputs": [
    {
     "data": {
      "text/plain": [
       "{'randomforestregressor__n_estimators': [100,\n",
       "  105,\n",
       "  110,\n",
       "  115,\n",
       "  120,\n",
       "  125,\n",
       "  130,\n",
       "  135,\n",
       "  140,\n",
       "  145,\n",
       "  150,\n",
       "  155,\n",
       "  160,\n",
       "  165,\n",
       "  170,\n",
       "  175,\n",
       "  180,\n",
       "  185,\n",
       "  190,\n",
       "  195],\n",
       " 'standardscaler': [StandardScaler(), None]}"
      ]
     },
     "execution_count": 38,
     "metadata": {},
     "output_type": "execute_result"
    }
   ],
   "source": [
    "n_est = [int(n) for n in range(100,200,5)]\n",
    "grid_params = {\n",
    "        'randomforestregressor__n_estimators': n_est,\n",
    "        'standardscaler': [StandardScaler(), None],\n",
    "}\n",
    "grid_params"
   ]
  },
  {
   "cell_type": "code",
   "execution_count": 39,
   "id": "d5e2db59",
   "metadata": {},
   "outputs": [],
   "source": [
    "#Call `GridSearchCV` with the random forest pipeline, passing in the above `grid_params`\n",
    "#dict for parameters to evaluate, 5-fold cross-validation, and all available CPU cores (if desired)\n",
    "rf_grid_cv = GridSearchCV(rf_pipe, param_grid=grid_params, cv=5, n_jobs=-1)"
   ]
  },
  {
   "cell_type": "code",
   "execution_count": 40,
   "id": "0c828fbd",
   "metadata": {},
   "outputs": [
    {
     "data": {
      "text/plain": [
       "GridSearchCV(cv=5,\n",
       "             estimator=Pipeline(steps=[('standardscaler', StandardScaler()),\n",
       "                                       ('randomforestregressor',\n",
       "                                        RandomForestRegressor(random_state=47))]),\n",
       "             n_jobs=-1,\n",
       "             param_grid={'randomforestregressor__n_estimators': [100, 105, 110,\n",
       "                                                                 115, 120, 125,\n",
       "                                                                 130, 135, 140,\n",
       "                                                                 145, 150, 155,\n",
       "                                                                 160, 165, 170,\n",
       "                                                                 175, 180, 185,\n",
       "                                                                 190, 195],\n",
       "                         'standardscaler': [StandardScaler(), None]})"
      ]
     },
     "execution_count": 40,
     "metadata": {},
     "output_type": "execute_result"
    }
   ],
   "source": [
    "#Now call the `GridSearchCV`'s `fit()` method with `X_train` and `y_train` as arguments\n",
    "#to actually start the grid search. This may take a minute or two.\n",
    "rf_grid_cv.fit(X_train, y_train)"
   ]
  },
  {
   "cell_type": "code",
   "execution_count": 41,
   "id": "cd98dfec",
   "metadata": {},
   "outputs": [
    {
     "data": {
      "text/plain": [
       "{'randomforestregressor__n_estimators': 195,\n",
       " 'standardscaler': StandardScaler()}"
      ]
     },
     "execution_count": 41,
     "metadata": {},
     "output_type": "execute_result"
    }
   ],
   "source": [
    "rf_grid_cv.best_params_"
   ]
  },
  {
   "cell_type": "code",
   "execution_count": 42,
   "id": "4719b06f",
   "metadata": {},
   "outputs": [
    {
     "data": {
      "text/plain": [
       "array([0.83446681, 0.83723817, 0.83083161, 0.83729028, 0.82967086])"
      ]
     },
     "execution_count": 42,
     "metadata": {},
     "output_type": "execute_result"
    }
   ],
   "source": [
    "rf_best_cv_results = cross_validate(rf_grid_cv.best_estimator_, X_train, y_train, cv=5)\n",
    "rf_best_scores = rf_best_cv_results['test_score']\n",
    "rf_best_scores"
   ]
  },
  {
   "cell_type": "code",
   "execution_count": 43,
   "id": "8812b879",
   "metadata": {},
   "outputs": [
    {
     "data": {
      "image/png": "[encoded data removed]",
      "text/plain": [
       "<Figure size 720x360 with 1 Axes>"
      ]
     },
     "metadata": {
      "needs_background": "light"
     },
     "output_type": "display_data"
    }
   ],
   "source": [
    "#Plot a barplot of the random forest's feature importances,\n",
    "#assigning the `feature_importances_` attribute of \n",
    "#`rf_grid_cv.best_estimator_.named_steps.randomforestregressor` to the name `imps` to then\n",
    "#create a pandas Series object of the feature importances, with the index given by the\n",
    "#training data column names, sorting the values in descending order\n",
    "plt.subplots(figsize=(10, 5))\n",
    "imps = rf_grid_cv.best_estimator_.named_steps.randomforestregressor.feature_importances_\n",
    "rf_feat_imps = pd.Series(imps, index=X_train.columns).sort_values(ascending=False)\n",
    "rf_feat_imps.plot(kind='bar')\n",
    "plt.xlabel('features')\n",
    "plt.ylabel('importance')\n",
    "plt.title('Best random forest regressor feature importances');"
   ]
  },
  {
   "cell_type": "code",
   "execution_count": 50,
   "id": "0b8558cd",
   "metadata": {},
   "outputs": [],
   "source": [
    "best_model = lr_grid_cv.best_estimator_\n",
    "best_model.version = 1.0\n",
    "best_model.pandas_version = pd.__version__\n",
    "best_model.numpy_version = np.__version__\n",
    "best_model.sklearn_version = sklearn_version\n",
    "best_model.X_columns = [col for col in X_train.columns]\n",
    "best_model.build_datetime = datetime.datetime.now()"
   ]
  },
  {
   "cell_type": "code",
   "execution_count": 51,
   "id": "406b19c6",
   "metadata": {},
   "outputs": [
    {
     "name": "stdout",
     "output_type": "stream",
     "text": [
      "A file already exists with this name.\n",
      "\n",
      "Do you want to overwrite? (Y/N)Y\n",
      "Writing file.  \"../models/spotify_popularity_model.pkl\"\n"
     ]
    }
   ],
   "source": [
    "modelpath = '../models'\n",
    "save_file(best_model, 'spotify_popularity_model.pkl', modelpath)"
   ]
  },
  {
   "cell_type": "code",
   "execution_count": null,
   "id": "83d67eb0",
   "metadata": {},
   "outputs": [],
   "source": []
  },
  {
   "cell_type": "code",
   "execution_count": null,
   "id": "1553cd25",
   "metadata": {},
   "outputs": [],
   "source": []
  }
 ],
 "metadata": {
  "kernelspec": {
   "display_name": "Python 3",
   "language": "python",
   "name": "python3"
  },
  "language_info": {
   "codemirror_mode": {
    "name": "ipython",
    "version": 3
   },
   "file_extension": ".py",
   "mimetype": "text/x-python",
   "name": "python",
   "nbconvert_exporter": "python",
   "pygments_lexer": "ipython3",
   "version": "3.8.8"
  }
 },
 "nbformat": 4,
 "nbformat_minor": 5
}
